{
 "cells": [
  {
   "cell_type": "markdown",
   "metadata": {},
   "source": [
    "Own code"
   ]
  },
  {
   "cell_type": "code",
   "execution_count": null,
   "metadata": {},
   "outputs": [],
   "source": [
    "import sys\n",
    "# sys.path.append(\"../code\")\n",
    "# all file locations are relative to the notebook on my local file system\n",
    "\n",
    "# Get the Node and Workflow object\n",
    "from nipype import Node, Workflow\n",
    "import import nipype.interfaces.spm as spm\n",
    "from nipype.interfaces.matlab import MatlabCommand\n",
    "\n",
    "# Specify which SPM to use\n",
    "MatlabCommand.set_default_paths('../../../MATLAB/spm12')\n",
    "\n",
    "# Location of sample data\n",
    "sample_dir = '../sample_data'\n",
    "\n",
    "# # What is the name of your working directory and output folder\n",
    "# output_dir =  'output_firstSteps'\n",
    "# working_dir = 'workingdir_firstSteps'\n",
    "\n",
    "# What are experiment specific parameters\n",
    "# number_of_slices = 40\n",
    "time_repetition = 2.0\n",
    "fwhm = 6"
   ]
  },
  {
   "cell_type": "markdown",
   "metadata": {},
   "source": [
    "Example from Nipype tutorials: https://miykael.github.io/nipype-beginner-s-guide/nipype.html#a-short-example"
   ]
  },
  {
   "cell_type": "code",
   "execution_count": null,
   "metadata": {},
   "outputs": [],
   "source": [
    "#Import modules\n",
    "import nipype\n",
    "import nipype.interfaces.afni        as afni\n",
    "import nipype.interfaces.freesurfer  as fs\n",
    "import nipype.interfaces.ants        as ants\n",
    "import nipype.interfaces.fsl         as fsl\n",
    "import nipype.interfaces.nipy        as nipy\n",
    "import nipype.interfaces.spm         as spm\n",
    "\n",
    "\n",
    "#Specify experiment specifc parameters\n",
    "experiment_dir = '~/experiment_folder'\n",
    "nameofsubjects = ['subject1','subject2','subject3']\n",
    "\n",
    "#Where can the raw data be found?\n",
    "grabber = nipype.DataGrabber()\n",
    "grabber.inputs.base_directory = experiment_dir + '/data'\n",
    "grabber.inputs.subject_id = nameofsubjects\n",
    "\n",
    "#Where should the output data be stored at?\n",
    "sink = nipype.DataSink()\n",
    "sink.inputs.base_directory = experiment_dir + '/output_folder'\n",
    "\n",
    "#Create a node for each step of the analysis\n",
    "\n",
    "#Motion Correction (AFNI)\n",
    "realign = afni.Retroicor()\n",
    "\n",
    "#Create a workflow to connect all those nodes\n",
    "analysisflow = nipype.Workflow()\n",
    "\n",
    "#Connect the nodes to each other\n",
    "analysisflow.connect([(grabber     ->  realign    ),\n",
    "                      (realign     ->  coreg      ),\n",
    "                      (coreg       ->  normalize  ),\n",
    "                      (normalize   ->  smooth     ),\n",
    "                      (smooth      ->  modelspec  ),\n",
    "                      (modelspec   ->  modelest   ),\n",
    "                      (modelest    ->  contrastest),\n",
    "                      (contrastest ->  threshold  ),\n",
    "                      (threshold   ->  sink       )\n",
    "                      ])\n",
    "\n",
    "#Run the workflow in parallel\n",
    "analysisflow.run(mode='parallel')"
   ]
  },
  {
   "cell_type": "markdown",
   "metadata": {},
   "source": [
    "Example output from giraffe"
   ]
  },
  {
   "cell_type": "code",
   "execution_count": null,
   "metadata": {},
   "outputs": [],
   "source": [
    "import sys\n",
    "import nipype\n",
    "import nipype.pipeline as pe\n",
    "\n",
    "import nipype.interfaces.spm as spm\n",
    "\n",
    "#Use spm_realign for estimating within modality rigid body alignment\n",
    "spm_realign = pe.Node(interface = spm.Realign(), name='spm_realign')\n",
    "spm_realign.inputs.in_files = fanon-0007_00001.nii, fanon-0007_00002.nii\n",
    "spm_realign.inputs.jobtype = est_write\n",
    "\n",
    "#Use spm_smooth for 3D Gaussian smoothing of image volumes.\n",
    "spm_smooth = pe.Node(interface = spm.Smooth(), name='spm_smooth')\n",
    "\n",
    "#Generic datasink module to store structured outputs\n",
    "io_data_sink = pe.Node(interface = io.DataSink(), name='io_data_sink')\n",
    "\n",
    "#Generic datagrabber module that wraps around glob in an\n",
    "io_data_grabber = pe.Node(io.DataGrabber(), name = 'io_data_grabber')\n",
    "\n",
    "#Create a workflow to connect all those nodes\n",
    "analysisflow = nipype.Workflow('MyWorkflow')\n",
    "analysisflow.connect(spm_realign, \"realigned_files\", spm_smooth, \"in_files\")\n"
   ]
  }
 ],
 "metadata": {
  "kernelspec": {
   "display_name": "Python 3",
   "language": "python",
   "name": "python3"
  },
  "language_info": {
   "codemirror_mode": {
    "name": "ipython",
    "version": 3
   },
   "file_extension": ".py",
   "mimetype": "text/x-python",
   "name": "python",
   "nbconvert_exporter": "python",
   "pygments_lexer": "ipython3",
   "version": "3.7.3"
  }
 },
 "nbformat": 4,
 "nbformat_minor": 4
}

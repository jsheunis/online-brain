{
 "cells": [
  {
   "cell_type": "code",
   "execution_count": 1,
   "metadata": {},
   "outputs": [
    {
     "name": "stdout",
     "output_type": "stream",
     "text": [
      "190814-23:42:24,842 nipype.workflow INFO:\n",
      "\t Generated workflow graph: ./preproc/graph.png (graph2use=hierarchical, simple_form=True).\n",
      "190814-23:42:24,866 nipype.workflow INFO:\n",
      "\t Workflow preproc settings: ['check', 'execution', 'logging', 'monitoring']\n",
      "190814-23:42:24,928 nipype.workflow INFO:\n",
      "\t Running serially.\n",
      "190814-23:42:24,929 nipype.workflow INFO:\n",
      "\t [Node] Setting-up \"preproc.realign\" in \"/Users/jheunis/Documents/PYTHON/online-brain/sample_code/preproc/realign\".\n",
      "190814-23:42:24,972 nipype.workflow INFO:\n",
      "\t [Node] Running \"realign\" (\"nipype.interfaces.spm.preprocess.Realign\")\n",
      "190814-23:42:52,123 nipype.workflow INFO:\n",
      "\t [Node] Finished \"preproc.realign\".\n",
      "190814-23:42:52,125 nipype.workflow INFO:\n",
      "\t [Node] Setting-up \"preproc.smooth\" in \"/Users/jheunis/Documents/PYTHON/online-brain/sample_code/preproc/smooth\".\n",
      "190814-23:42:52,187 nipype.workflow INFO:\n",
      "\t [Node] Running \"smooth\" (\"nipype.interfaces.spm.preprocess.Smooth\")\n",
      "190814-23:43:17,200 nipype.workflow INFO:\n",
      "\t [Node] Finished \"preproc.smooth\".\n"
     ]
    },
    {
     "data": {
      "text/plain": [
       "<networkx.classes.digraph.DiGraph at 0x112d9b898>"
      ]
     },
     "execution_count": 1,
     "metadata": {},
     "output_type": "execute_result"
    }
   ],
   "source": [
    "import sys\n",
    "from os.path import join\n",
    "# sys.path.append(\"../code\")\n",
    "# all file locations are relative to the notebook on my local file system\n",
    "\n",
    "# Get the Node and Workflow object\n",
    "from nipype import Node, Workflow\n",
    "import nipype.interfaces.spm as spm\n",
    "from nipype.interfaces.spm import Realign, Smooth\n",
    "from nipype.interfaces.matlab import MatlabCommand\n",
    "import numpy as np\n",
    "import nibabel as nb\n",
    "from IPython.display import Image\n",
    "\n",
    "# Specify which SPM to use\n",
    "MatlabCommand.set_default_paths('../../../MATLAB/spm12')\n",
    "\n",
    "# Location of sample data\n",
    "sample_dir = '../sample_data/'\n",
    "base_fn = 'fanon-0007_'\n",
    "base_ext = '.nii'\n",
    "i = 1\n",
    "img1 = sample_dir + base_fn + \"{:05d}\".format(i) + base_ext\n",
    "i = 2\n",
    "img2 = sample_dir + base_fn + \"{:05d}\".format(i) + base_ext\n",
    "img_list = [img1, img2]\n",
    "# spm.Realign().help()\n",
    "\n",
    "# settings:\n",
    "smoothing_size = 6\n",
    "\n",
    "\n",
    "# Realign - correct for motion\n",
    "realign = Node(Realign(register_to_mean=False),\n",
    "               name=\"realign\")\n",
    "realign.inputs.in_files = [img1, img2]\n",
    "\n",
    "# Smooth - to smooth the images with a given kernel\n",
    "smooth = Node(Smooth(fwhm=smoothing_size),\n",
    "              name=\"smooth\")\n",
    "\n",
    "# preproc = Workflow(name='work_preproc', base_dir=join(output_dir, 'output/'))\n",
    "preproc = Workflow(name='preproc', base_dir='.')\n",
    "\n",
    "output_dir = './preproc'\n",
    "\n",
    "# Connect all components of the preprocessing workflow\n",
    "preproc.connect([(realign, smooth, [('realigned_files', 'in_files')])])\n",
    "\n",
    "preproc.write_graph()\n",
    "\n",
    "preproc.run()"
   ]
  },
  {
   "cell_type": "code",
   "execution_count": null,
   "metadata": {},
   "outputs": [],
   "source": []
  },
  {
   "cell_type": "code",
   "execution_count": null,
   "metadata": {},
   "outputs": [],
   "source": []
  }
 ],
 "metadata": {
  "kernelspec": {
   "display_name": "Python 3",
   "language": "python",
   "name": "python3"
  },
  "language_info": {
   "codemirror_mode": {
    "name": "ipython",
    "version": 3
   },
   "file_extension": ".py",
   "mimetype": "text/x-python",
   "name": "python",
   "nbconvert_exporter": "python",
   "pygments_lexer": "ipython3",
   "version": "3.7.3"
  }
 },
 "nbformat": 4,
 "nbformat_minor": 4
}
